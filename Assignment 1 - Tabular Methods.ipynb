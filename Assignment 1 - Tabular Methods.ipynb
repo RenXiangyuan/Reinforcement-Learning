{
 "cells": [
  {
   "cell_type": "markdown",
   "metadata": {},
   "source": [
    "# Assignment 1: Tabular Methods\n",
    "\n",
    "Name: Xiangyuan Ren\n",
    "\n",
    "ID: A53249047"
   ]
  },
  {
   "cell_type": "markdown",
   "metadata": {},
   "source": [
    "This exercise requires you to solve a simple grid-world problem called 'FrozenLake-v0' in OpenAI Gym.  We will solve the problem in two different ways. First we will solve the problem using dynamic programming, thus requiring a model of the system. Second we will do it using model-free temporal difference (Q-Learning). Finally, as a bonus you may also show it learning using a naive approach called hill-climbing. \n",
    "\n",
    "### Required for all \n",
    "#### Set up environment"
   ]
  },
  {
   "cell_type": "code",
   "execution_count": 2,
   "metadata": {},
   "outputs": [],
   "source": [
    "%matplotlib inline\n",
    "import gym\n",
    "import numpy as np\n",
    "from matplotlib import pyplot as plt\n",
    "env = gym.make('FrozenLake-v0')"
   ]
  },
  {
   "cell_type": "markdown",
   "metadata": {},
   "source": [
    "#### Pre. Test Policy Function\n",
    "Write a function to test a policy. Return the average rate of successful episodes over 100 trials. "
   ]
  },
  {
   "cell_type": "code",
   "execution_count": 3,
   "metadata": {},
   "outputs": [],
   "source": [
    "def testPolicy(policy):\n",
    "    success=0\n",
    "    for i_episode in range(100):\n",
    "        observation = env.reset()\n",
    "        tmpdone = False\n",
    "        while not(tmpdone):\n",
    "            #env.render()\n",
    "            #print(observation)\n",
    "            action = policy[env.env.s]\n",
    "            observation, reward, done, info = env.step(action)\n",
    "            #print(reward),\n",
    "            if done:\n",
    "                if reward>0:\n",
    "                    success+=1\n",
    "                #print(\"done\")\n",
    "                break\n",
    "            tmpdone = done\n",
    "    percentSuccess=success*1.0/100\n",
    "    return percentSuccess"
   ]
  },
  {
   "cell_type": "markdown",
   "metadata": {},
   "source": [
    "## Model-based Learning\n",
    "\n",
    "### 1. Policy Iteration\n",
    "Perform policy iteration on the Frozenlake example. \n",
    "\n",
    "\n",
    "#### 1.1 Find the system model\n",
    "First, model $T(s,a,s')$ and $R(s,a,s')$ over 100000 randomly initializations."
   ]
  },
  {
   "cell_type": "code",
   "execution_count": 4,
   "metadata": {},
   "outputs": [],
   "source": [
    "def learnModel():\n",
    "    T=np.zeros((16,4,16))\n",
    "    R=np.zeros((16,4,16))\n",
    "    N=np.zeros((16,4))\n",
    "    state = env.reset()\n",
    "    s0=np.random.choice(16,size=((100000)))\n",
    "    a =np.random.choice( 4,size=((100000)))\n",
    "    for t in range(100000):\n",
    "        env.env.s = int(s0[t])\n",
    "        observation, reward, done, info = env.step(a[t])\n",
    "        T[s0[t],a[t],observation]+=1\n",
    "        R[s0[t],a[t],observation]+=reward\n",
    "        N[s0[t],a[t]]+=1\n",
    "    for x in range(16):\n",
    "        for y in range(4):\n",
    "            T[x,y,:]=T[x,y,:]/N[x,y]\n",
    "            R[x,y,:]=R[x,y,:]/N[x,y]\n",
    "    return R,T\n",
    "\n",
    "#first learn the model    \n",
    "[R,T] = learnModel()"
   ]
  },
  {
   "cell_type": "markdown",
   "metadata": {},
   "source": [
    "#### 1.2 What does the transition model tell you about the stochastic behavior of actions? What does it tell you about the stochasticity  of the rewards? What would you expect an optimal agent's policy to do?"
   ]
  },
  {
   "cell_type": "markdown",
   "metadata": {},
   "source": [
    "ans: For each given action, the agent may go into three different direction with 1/3 probability. For rewards, only in the location 14, will agent able to get reward."
   ]
  },
  {
   "cell_type": "markdown",
   "metadata": {},
   "source": [
    "#### 1.3 Write a function for Policy Evaluation"
   ]
  },
  {
   "cell_type": "code",
   "execution_count": 7,
   "metadata": {},
   "outputs": [],
   "source": [
    "#runPolicyEvaluation:\n",
    "def runPolicyEvaluation(policy,V,R,T,discount_factor):\n",
    "    Converge = False\n",
    "    iters = 0 \n",
    "    while not(Converge):\n",
    "        diff = 0\n",
    "        for s0 in range(15,-1,-1):\n",
    "            v = 0\n",
    "            a = int(policy[s0])\n",
    "            for s1 in range(16):\n",
    "                if T[s0,a,s1]==0:\n",
    "                    continue\n",
    "                v+= T[s0,a,s1]*(R[s0,a,s1]+discount_factor*V[s1])\n",
    "                #print(s0,a,s1,v)\n",
    "            diff = max(diff,abs(v-V[s0]))\n",
    "            #print(diff)\n",
    "            V[s0] = v\n",
    "        iters += 1\n",
    "        if diff < 1e-8:\n",
    "            Converge = True\n",
    "        \n",
    "    Vnew = V\n",
    "    #print(iters)\n",
    "    return Vnew"
   ]
  },
  {
   "cell_type": "markdown",
   "metadata": {},
   "source": [
    "#### 1.4 Run Policy iteration.\n",
    "and show a bar graph of successful runs vs iteration on the policy. Use a discount factor of 0.98, and terminate policy  after 40 iterations of policy updates.  Plot the percentSuccesses at every iteration (i.e. the return of the testPolicy function)."
   ]
  },
  {
   "cell_type": "code",
   "execution_count": 8,
   "metadata": {},
   "outputs": [
    {
     "name": "stdout",
     "output_type": "stream",
     "text": [
      "Policy iteration policy: [ 0.  3.  3.  3.  0.  0.  0.  0.  3.  1.  0.  0.  0.  2.  1.  0.]\n"
     ]
    },
    {
     "data": {
      "image/png": "[encoded data removed]",
      "text/plain": [
       "<matplotlib.figure.Figure at 0x113ecab70>"
      ]
     },
     "metadata": {},
     "output_type": "display_data"
    }
   ],
   "source": [
    "V=np.zeros((16));\n",
    "policy=np.ones(16);\n",
    "percentSuccesses=[]\n",
    "for iters in range(40):\n",
    "    V = runPolicyEvaluation(policy=policy,V=V,R=R,T=T,discount_factor=0.98)   \n",
    "    pstate=True\n",
    "    for s0 in range(16):\n",
    "        tmp = policy[s0]\n",
    "        l = []\n",
    "        for a in range(4):\n",
    "            tt = 0\n",
    "            for s1 in range(16):\n",
    "                tt+=T[s0,a,s1]*(R[s0,a,s1]+0.98*V[s1])\n",
    "            l.append(tt)\n",
    "        policy[s0]=np.argmax(l)\n",
    "        if tmp!=policy[s0]:\n",
    "            pstate=False\n",
    "    percentSuccesses.append(testPolicy(policy))\n",
    "    #if pstate==True:\n",
    "    #    break\n",
    "# plot improvement over time\n",
    "plt.figure()\n",
    "plt.bar(np.arange(len(percentSuccesses)), 100*np.array(percentSuccesses), align='center', alpha=0.5)\n",
    "plt.ylabel('% Episodes Successful')\n",
    "plt.xlabel('Iteration') \n",
    "plt.title('Policy Iteration',fontsize=16)  \n",
    "print('Policy iteration policy:', policy)"
   ]
  },
  {
   "cell_type": "markdown",
   "metadata": {},
   "source": [
    "## Model-Free Learning"
   ]
  },
  {
   "cell_type": "markdown",
   "metadata": {},
   "source": [
    "### 2 Q Value-Iteration (Q-Learning)\n",
    "\n",
    "#### 2.1 Set up a Q learning function\n",
    "Set your exploration rate to 1-episode_num/total_num_of_episodes for linear convergence from completely random action selection to a greedy policy. Return a set of policies (at 5%, 10%,...100% of the total number of episodes) so that in the later section you can perform policy evaluation on intermediate Q-tables and show progress."
   ]
  },
  {
   "cell_type": "code",
   "execution_count": 29,
   "metadata": {},
   "outputs": [],
   "source": [
    "def find_action(a1,e):\n",
    "    p=np.random.rand()\n",
    "    if p<1-3*e/4:\n",
    "        return a1\n",
    "    else:\n",
    "        while(1):\n",
    "            tmp=np.random.choice(4)\n",
    "            if tmp!=a1:\n",
    "                return tmp\n",
    "def runQLearning(learning_rate,discount_factor,num_of_episodes,Q0,explore_type='linear'):\n",
    "    Q_saved=[]\n",
    "    Q=Q0\n",
    "    #Q_saved.append(Q)\n",
    "    state=env.reset()\n",
    "    for n_eps in range(num_of_episodes):#for n_eps in range(num_of_episodes):\n",
    "        e=1-n_eps*1.0/num_of_episodes\n",
    "        s0=np.random.choice(16)\n",
    "        env.env.s=int(s0)\n",
    "        #env.render()\n",
    "        while(1):\n",
    "            a1=np.argmax(Q[s0,:])\n",
    "            a = find_action(a1,e)\n",
    "            s1, reward, done, info =env.step(a)\n",
    "            Q[s0,a]+=(1-learning_rate)*(reward+discount_factor*np.max(Q[s1,:])-Q[s0,a])\n",
    "            #env.render()\n",
    "            s0=s1\n",
    "            if done==True:\n",
    "                break\n",
    "        if (n_eps+1)%5000==0:\n",
    "            #print(n_eps),\n",
    "            Q_saved.append(Q.copy()) #save last Q\n",
    "    return Q_saved\n",
    "\n"
   ]
  },
  {
   "cell_type": "markdown",
   "metadata": {},
   "source": [
    "#### 2.1 Perform Q-learning. \n",
    "Show policies during intermediate phases of Q-learning, at 0, 10%, 20%,...,100% of the total episodes during training. Set a learning rate of 0.98 and a discount factor of 0.95. Start with a zero-filled Q-table. Run 10000 episodes. Plot the bar graph of the success rate over time to visualize the improvements to success rate the new policies are providing. "
   ]
  },
  {
   "cell_type": "code",
   "execution_count": 30,
   "metadata": {},
   "outputs": [
    {
     "name": "stdout",
     "output_type": "stream",
     "text": [
      "Q-learning (linear) policy: [ 0.  3.  0.  3.  0.  0.  2.  0.  3.  1.  0.  0.  0.  2.  1.  0.]\n"
     ]
    },
    {
     "data": {
      "image/png": "[encoded data removed]",
      "text/plain": [
       "<matplotlib.figure.Figure at 0x115641dd8>"
      ]
     },
     "metadata": {},
     "output_type": "display_data"
    }
   ],
   "source": [
    "\n",
    "Q_saved=runQLearning(learning_rate=0.98,discount_factor=0.95,num_of_episodes=100000,Q0=np.zeros((16,4)))\n",
    "percentSuccesses=[]\n",
    "for i in range(len(Q_saved)):\n",
    "    Q=Q_saved[i]\n",
    "    policy=np.zeros(16)\n",
    "    for x in range(16):\n",
    "        policy[x]=np.argmax(Q[x,:])\n",
    "    acc=testPolicy(policy)\n",
    "    percentSuccesses.append(acc)\n",
    "\n",
    "plt.figure()\n",
    "plt.bar(np.arange(len(percentSuccesses)), 100*np.array(percentSuccesses), align='center', alpha=0.5)\n",
    "plt.ylabel('% Episodes Successful')\n",
    "plt.xlabel('Iterations')\n",
    "plt.title('linear Rate Exploitation', fontsize=16)\n",
    "print('Q-learning (linear) policy:', policy)"
   ]
  },
  {
   "cell_type": "markdown",
   "metadata": {},
   "source": [
    "#### 1.4 Log Rate Exploration\n",
    "\n",
    "Run Q-learning for a log exploration rate, $\\frac{1000}{1000+\\text{episode_num}}$, for 10,000 episodes. Perform policy evaluation and plot the success rate over time. You may find setting Q0 to a random number initialization helps (set it to something very small, i.e. 0.000001\\*rand(), since setting it to zero sets a fixed seed)."
   ]
  },
  {
   "cell_type": "code",
   "execution_count": 34,
   "metadata": {},
   "outputs": [
    {
     "name": "stdout",
     "output_type": "stream",
     "text": [
      "Q-learning (log) policy: [ 0.  3.  0.  3.  0.  3.  2.  1.  3.  1.  0.  0.  1.  2.  1.  0.]\n"
     ]
    },
    {
     "data": {
      "image/png": "[encoded data removed]",
      "text/plain": [
       "<matplotlib.figure.Figure at 0x11433f1d0>"
      ]
     },
     "metadata": {},
     "output_type": "display_data"
    }
   ],
   "source": [
    "learning_rate=0.98; discount_factor=0.95;num_of_episodes=100000;\n",
    "Q_saved=[]\n",
    "Q=np.random.rand(16,4)*0.000001\n",
    "Q[15,:]=np.zeros((1,4))\n",
    "state=env.reset()\n",
    "for n_eps in range(num_of_episodes):\n",
    "    e=10000.0/(10000+n_eps)\n",
    "    s0=np.random.choice(16)\n",
    "    env.env.s=int(s0)\n",
    "    #env.render()\n",
    "    while(1):\n",
    "        a1=np.argmax(Q[s0,:])\n",
    "        a = find_action(a1,e)\n",
    "        s1, reward, done, info =env.step(a)\n",
    "        Q[s0,a]+=(1-learning_rate)*(reward+discount_factor*np.max(Q[s1,:])-Q[s0,a])\n",
    "        #env.render()\n",
    "        s0=s1\n",
    "        if done==True:\n",
    "            break\n",
    "    if (n_eps+1)%5000==0:\n",
    "        #print(n_eps),\n",
    "        Q_saved.append(Q.copy()) #save last Q\n",
    "percentSuccesses=[]\n",
    "for i in range(len(Q_saved)):\n",
    "    Q=Q_saved[i]\n",
    "    policy=np.zeros(16)\n",
    "    for x in range(16):\n",
    "        policy[x]=np.argmax(Q[x,:])\n",
    "    acc=testPolicy(policy)\n",
    "    percentSuccesses.append(acc)\n",
    "\n",
    "\n",
    "plt.figure()\n",
    "plt.bar(np.arange(len(percentSuccesses)), 100*np.array(percentSuccesses), align='center', alpha=0.5)\n",
    "plt.ylabel('% Episodes Successful')\n",
    "plt.xlabel('Iterations')\n",
    "plt.title('Log Rate Exploitation', fontsize=16)\n",
    "print('Q-learning (log) policy:', policy)"
   ]
  },
  {
   "cell_type": "markdown",
   "metadata": {
    "collapsed": true
   },
   "source": [
    "# BONUS: Hill Climbing (25%, granted only if Parts 1 and 2 are complete)\n",
    "\n",
    "Demonstrate hill climbing, where your Q values are chosen randomly, and you save improvements, with new Q values to try as $$Q_{test}\\leftarrow Q_{best}+rand(S,A)$$\n",
    "Plot the a bar graph with x-axis labelling the iteration number when an improvement occurred, and y axis as the % of successful episodes. Run on N = 1000 iterations of hill climbing, with 100 episodes per iteration. "
   ]
  },
  {
   "cell_type": "code",
   "execution_count": 38,
   "metadata": {},
   "outputs": [
    {
     "name": "stdout",
     "output_type": "stream",
     "text": [
      "[ 0.  1.  1.  1.  0.  3.  0.  1.  3.  1.  1.  3.  2.  1.  3.  0.] : Hill-climbing policy\n"
     ]
    },
    {
     "data": {
      "image/png": "[encoded data removed]",
      "text/plain": [
       "<matplotlib.figure.Figure at 0x11582f048>"
      ]
     },
     "metadata": {},
     "output_type": "display_data"
    }
   ],
   "source": [
    "Q=np.random.rand(16,4)* 0.000001\n",
    "Q[15,:]=np.zeros((1,4))\n",
    "policy=np.zeros(16)\n",
    "percentSuccesses=[]\n",
    "improvementsIndex=[]\n",
    "for x in range(16):\n",
    "    policy[x]=np.argmax(Q[x,:])\n",
    "acc=testPolicy(policy)\n",
    "#print(0,acc)\n",
    "for iters in range(1000):\n",
    "    Qtmp=Q+np.random.rand(16,4)* 0.000001\n",
    "    policytmp=np.zeros(16)\n",
    "    for x in range(16):\n",
    "        policytmp[x]=np.argmax(Qtmp[x,:])\n",
    "    acctmp=testPolicy(policytmp)\n",
    "    if acctmp>acc:\n",
    "        policy=policytmp\n",
    "        acc=acctmp\n",
    "        percentSuccesses.append(acc)\n",
    "        improvementsIndex.append(iters)\n",
    "\n",
    "\n",
    "\n",
    "plt.figure()\n",
    "plt.bar(np.arange(len(improvementsIndex)), 100*np.array(percentSuccesses), align='center', alpha=0.5)\n",
    "plt.xticks(np.arange(len(improvementsIndex)),improvementsIndex) \n",
    "plt.ylabel('% Episodes Successful')\n",
    "plt.xlabel('Iteration')\n",
    "plt.title('Hill Climbing',fontsize=16)\n",
    "print(policy,': Hill-climbing policy')\n"
   ]
  }
 ],
 "metadata": {
  "kernelspec": {
   "display_name": "Python 3",
   "language": "python",
   "name": "python3"
  },
  "language_info": {
   "codemirror_mode": {
    "name": "ipython",
    "version": 3
   },
   "file_extension": ".py",
   "mimetype": "text/x-python",
   "name": "python",
   "nbconvert_exporter": "python",
   "pygments_lexer": "ipython3",
   "version": "3.6.3"
  },
  "varInspector": {
   "cols": {
    "lenName": 16,
    "lenType": 16,
    "lenVar": 40
   },
   "kernels_config": {
    "python": {
     "delete_cmd_postfix": "",
     "delete_cmd_prefix": "del ",
     "library": "var_list.py",
     "varRefreshCmd": "print(var_dic_list())"
    },
    "r": {
     "delete_cmd_postfix": ") ",
     "delete_cmd_prefix": "rm(",
     "library": "var_list.r",
     "varRefreshCmd": "cat(var_dic_list()) "
    }
   },
   "types_to_exclude": [
    "module",
    "function",
    "builtin_function_or_method",
    "instance",
    "_Feature"
   ],
   "window_display": false
  }
 },
 "nbformat": 4,
 "nbformat_minor": 2
}
