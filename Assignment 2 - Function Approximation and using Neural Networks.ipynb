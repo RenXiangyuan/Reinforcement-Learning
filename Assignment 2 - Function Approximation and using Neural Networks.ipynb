{
 "cells": [
  {
   "cell_type": "markdown",
   "metadata": {},
   "source": [
    "# Assignment 2: Function Approximation for Q Learning\n",
    "\n",
    "Name: Xiangyuan Ren\n",
    "\n",
    "ID: A53249047"
   ]
  },
  {
   "cell_type": "markdown",
   "metadata": {},
   "source": [
    "### 1. Cartpole\n",
    "\n",
    "A cartpole problem is shown below.\n",
    "![pendulum2.png](pendulum2.png)\n",
    "\n",
    "The equation for the cartpole problem is nonlinear in nature, but it has been shown through robust control theory that a linear version of the equation of the form $\\dot{x} = Ax+Bu$ can be solved by a linear controller. Let us assume that we are interested in minimizing cart stray from the center, and pendulum falling. It turns out that typical techniques - open loop control, PID control, root locus, etc. is not suitable for stabilizing both the cart position (keep near center) or the pole angle (keep vertical). The solution to this question is a linear quadratic controller, but we won't be using the solution at the moment."
   ]
  },
  {
   "cell_type": "markdown",
   "metadata": {},
   "source": [
    "### Setup Environment for Function Approximation\n"
   ]
  },
  {
   "cell_type": "code",
   "execution_count": 1,
   "metadata": {},
   "outputs": [],
   "source": [
    "%matplotlib inline"
   ]
  },
  {
   "cell_type": "code",
   "execution_count": 2,
   "metadata": {
    "scrolled": true
   },
   "outputs": [
    {
     "name": "stdout",
     "output_type": "stream",
     "text": [
      "\u001b[33mWARN: gym.spaces.Box autodetected dtype as <class 'numpy.float32'>. Please provide explicit dtype.\u001b[0m\n"
     ]
    },
    {
     "data": {
      "text/plain": [
       "array([ 0.01651899,  0.020169  ,  0.03030382,  0.0064973 ])"
      ]
     },
     "execution_count": 2,
     "metadata": {},
     "output_type": "execute_result"
    }
   ],
   "source": [
    "import gym\n",
    "import numpy as np\n",
    "import matplotlib.pyplot as plt\n",
    "\n",
    "# Create the CartPole game environment\n",
    "env = gym.make('CartPole-v0')\n",
    "env = env.unwrapped\n",
    "env.reset()"
   ]
  },
  {
   "cell_type": "markdown",
   "metadata": {},
   "source": [
    "#### Demonstrate your understanding of the simulation\n",
    "For OpenAI's CartPole-v0 environment,\n",
    "- describe the reward system\n",
    "- describe the each state variable (observation space)\n",
    "- describe the action space"
   ]
  },
  {
   "cell_type": "markdown",
   "metadata": {},
   "source": [
    "Ans: 1. A reward of +1 is provided for every timestep that the pole remains upright. The episode ends when the pole is more than 15 degrees from vertical, or the cart moves more than 2.4 units from the center.\n",
    "     2. The state variable is [position of cart, velocity of cart, angle of pole, rotation rate of pole]\n",
    "     3. action space is a force of +1 or -1 to the cart\n",
    "\n"
   ]
  },
  {
   "cell_type": "markdown",
   "metadata": {},
   "source": [
    "### Write a Deep Neural Network class that creates a dense network of a desired architecture\n",
    "In this problem we will create neural network that is our function that takes states to q-values: $q=f(x)$. While any function approximator could be used (i.e. Chebyshev functions, taylor series polynomials), neural networks offer a most general form of 1st-order smooth function (though comprising of trivial small activation functions means that complex functions require a significant amount of weights to identify). \n",
    "\n",
    "Create a class for a QNetwork that uses PyTorch to create a fully connected sequential neural network, of the following properties:\n",
    "- solver: Adam\n",
    "\n",
    "- input and hidden layer activation function: tanh\n",
    "\n",
    "- output activation function: linear\n",
    "\n",
    "- loss: mse\n",
    "\n",
    "- learning_rate: variable\n",
    "\n",
    "- decay_rate: variable\n",
    "\n",
    "- hidden_state sizes: variable\n",
    "\n",
    "- state and action sizes: variable\n"
   ]
  },
  {
   "cell_type": "code",
   "execution_count": 3,
   "metadata": {},
   "outputs": [],
   "source": [
    "import torch\n",
    "import torch.nn as nn\n",
    "import torch.optim as optim\n",
    "import torch.nn.functional as F\n",
    "from torch.autograd import Variable\n",
    "import torchvision.transforms as T"
   ]
  },
  {
   "cell_type": "code",
   "execution_count": 4,
   "metadata": {},
   "outputs": [],
   "source": [
    "import random\n",
    "import numpy as np\n",
    "import matplotlib\n",
    "import matplotlib.pyplot as plt\n",
    "from collections import namedtuple\n",
    "from itertools import count\n",
    "from PIL import Image"
   ]
  },
  {
   "cell_type": "code",
   "execution_count": 5,
   "metadata": {},
   "outputs": [],
   "source": [
    "from IPython import display"
   ]
  },
  {
   "cell_type": "code",
   "execution_count": 6,
   "metadata": {},
   "outputs": [],
   "source": [
    "class Net(nn.Module):\n",
    "    def __init__(self, state_size, action_size, hidden_size):\n",
    "        super(Net, self).__init__()\n",
    "        nn.Module.__init__(self)\n",
    "        self.fc1 = nn.Linear(state_size, hidden_size)\n",
    "        self.fc2 = nn.Linear(hidden_size, action_size)\n",
    "\n",
    "    def forward(self, x):\n",
    "        #x = F.relu(self.fc1(x))\n",
    "        x = F.tanh(self.fc1(x))\n",
    "        x = self.fc2(x)\n",
    "        return x\n",
    "\n",
    "class QNetwork(object):#!!!!alpha decay\n",
    "    def __init__(self,learning_rate, state_size, action_size, hidden_size, alpha_decay):\n",
    "        self.qnet = Net(state_size, action_size, hidden_size)\n",
    "        self.optimizer = torch.optim.Adam(self.qnet.parameters(), lr=learning_rate)    # torch 的优化器\n",
    "        self.loss_func = nn.MSELoss()   # 误差公式\n",
    "    def optimize_model(self,batch):\n",
    "        x=Variable(torch.FloatTensor(batch[0]))\n",
    "        y=Variable(torch.FloatTensor(batch[1]))\n",
    "        a=Variable(torch.FloatTensor(batch[2]))\n",
    "        output = torch.sum(DQN.qnet(x)*a,1)\n",
    "        loss = self.loss_func(output, y)\n",
    "        self.optimizer.zero_grad()\n",
    "        loss.backward()\n",
    "        self.optimizer.step()"
   ]
  },
  {
   "cell_type": "markdown",
   "metadata": {},
   "source": [
    "#### Write a Replay class that includes all the functionality of a replay buffer\n",
    "The replay buffer should kept to some maximum size (10000), allow adding of samples and returning of samples at random from the buffer. Each sample (or experience) is formed as (state, action, reward, next_state, done). The replay buffer should also be able to generate a minibatch. The generate_minibatch method should take in DQN, targetDQN, selected batch_size, and return the states present in the minibatch and the target Q values for those states."
   ]
  },
  {
   "cell_type": "code",
   "execution_count": 7,
   "metadata": {},
   "outputs": [],
   "source": [
    "class Replay():\n",
    "# Replay should also have an initialize method which creates a minimum buffer for \n",
    "# the initial episodes to generate minibatches.        \n",
    "    def __init__(self, max_size=10000):\n",
    "        self.max_size = max_size\n",
    "        self.memory = []\n",
    "        self.position = 0\n",
    "    def initialize(self,init_length=1000, envir=env):\n",
    "        for iters in range(init_length):\n",
    "            done = False\n",
    "            envir.reset()\n",
    "            state= envir.state#.env.state\n",
    "            while not(done):\n",
    "                action=env.action_space.sample()\n",
    "                next_state, reward, done, info = envir.step(action)\n",
    "                if done:\n",
    "                    next_state=None\n",
    "                self.memory.append((state,action,reward,next_state,done))\n",
    "                if len(self.memory)>=self.max_size:\n",
    "                    return\n",
    "                state = next_state       \n",
    "    def push(self,state,action,reward,next_state,done):\n",
    "        \"\"\"Saves a transition.\"\"\"\n",
    "        #if len(self.memory) < self.max_size:\n",
    "        #    self.memory.append(None)\n",
    "        self.memory[self.position] = (state,action,reward,next_state,done)\n",
    "        self.position = (self.position + 1) % self.max_size\n",
    "    def generate_minibatch (self, DQN, targetDQN, batch_size):\n",
    "        tmp = random.sample(self.memory, batch_size)\n",
    "        states = np.zeros((batch_size,4))\n",
    "        qvalues= np.zeros(batch_size)\n",
    "        actions= np.zeros((batch_size,2))\n",
    "        j = 0\n",
    "        for i in tmp:\n",
    "            \n",
    "            s1= i[0]; s2=i[3]; r = i[2]; a=i[1]\n",
    "            #|print(s1,s2,r,a)\n",
    "            if type(s2)==type(None):\n",
    "                qvalue = r\n",
    "            else:\n",
    "                r1,r2 = targetDQN.qnet.forward(Variable(torch.FloatTensor(s2))).data\n",
    "                #print([r1,r2])\n",
    "                qvalue= r + gamma * np.max([r1,r2]) #- DQN.qnet.forward(Variable(torch.FloatTensor(s1))).data[i[1]]\n",
    "            states[j,:]=s1\n",
    "            qvalues[j]=qvalue; actions[j,a]=1\n",
    "            j+=1\n",
    "        return states,qvalues,actions\n",
    "    def __len__(self):\n",
    "        return len(self.memory)  "
   ]
  },
  {
   "cell_type": "markdown",
   "metadata": {},
   "source": [
    "Write a function that creates a minibatch from a buffer"
   ]
  },
  {
   "cell_type": "markdown",
   "metadata": {},
   "source": [
    "### Perform Function Approximation\n",
    "Initialize DQN networks and Replay objects"
   ]
  },
  {
   "cell_type": "code",
   "execution_count": 8,
   "metadata": {},
   "outputs": [],
   "source": [
    "# Initialize DQN\n",
    "\n",
    "# Play around with your learning rate, alpha decay and hidden layer units \n",
    "# Two layers with a small number of units should be enough\n",
    "learning_rate, state_size, action_size, hidden_size, alpha_decay = 1e-3, 4, 2, 10,0.99\n",
    "DQN = QNetwork(learning_rate, state_size, action_size, hidden_size, alpha_decay)\n",
    "targetDQN = QNetwork(learning_rate, state_size, action_size, hidden_size, alpha_decay)\n",
    "targetDQN.qnet.load_state_dict(DQN.qnet.state_dict())\n",
    "# set targetDQN weights to DQN weights\n",
    "# for ex. targetDQN.model.weights = DQN.model.weights (syntax given here is for representation purpose only)\n",
    "\n",
    "## Initialize Replay Buffer\n",
    "###################################\n",
    "## Populate the initial experience buffer\n",
    "###################################\n",
    "\n",
    "replay = Replay(max_size=10000)\n",
    "replay.initialize(init_length=1000, envir=env)"
   ]
  },
  {
   "cell_type": "markdown",
   "metadata": {},
   "source": [
    "#### Create a function that solves the above environment using a deep Q network that uses a minibatch strategy.\n",
    "Use the following parameters (these had to be derived empirically - there is generally no trusted way of choosing the right parameter values - i.e. gamma, number of episodes, decay rate, min_epsilon). \n",
    "\n",
    "Generate a graph of the average return per episode every 100 episodes."
   ]
  },
  {
   "cell_type": "code",
   "execution_count": 33,
   "metadata": {},
   "outputs": [],
   "source": [
    "def select_action(state,epsilon):\n",
    "    sample = random.random()\n",
    "    eps_threshold = epsilon\n",
    "    if sample > eps_threshold:\n",
    "        tmp=Variable(torch.FloatTensor(state), volatile=True).type(torch.FloatTensor)\n",
    "        return np.argmax(DQN.qnet(tmp).data)\n",
    "    else:\n",
    "        return np.random.choice([0,1])"
   ]
  },
  {
   "cell_type": "code",
   "execution_count": 47,
   "metadata": {},
   "outputs": [
    {
     "name": "stdout",
     "output_type": "stream",
     "text": [
      "25   20.0\n",
      "50   13.0\n",
      "75   38.0\n",
      "100   16.0\n",
      "125   49.0\n",
      "150   137.0\n",
      "175   94.0\n",
      "200   20.0\n",
      "225   129.0\n",
      "250   44.0\n",
      "275   140.0\n",
      "300   220.0\n",
      "325   141.0\n",
      "350   220.0\n",
      "375   123.0\n",
      "400   188.0\n",
      "425   119.0\n",
      "450   27.0\n",
      "475   220.0\n",
      "500   220.0\n",
      "525   220.0\n",
      "550   116.0\n",
      "575   34.0\n",
      "600   220.0\n",
      "625   71.0\n",
      "650   220.0\n",
      "675   220.0\n",
      "700   19.0\n",
      "725   220.0\n",
      "750   10.0\n",
      "775   161.0\n",
      "800   220.0\n",
      "825   140.0\n",
      "850   149.0\n",
      "875   119.0\n",
      "900   109.0\n",
      "925   220.0\n",
      "950   220.0\n",
      "975   220.0\n",
      "1000   220.0\n",
      "1025   220.0\n",
      "1050   46.0\n",
      "1075   220.0\n",
      "1100   220.0\n",
      "1125   220.0\n",
      "1150   12.0\n",
      "1175   220.0\n",
      "1200   170.0\n",
      "1225   220.0\n",
      "1250   220.0\n",
      "1275   102.0\n",
      "1300   220.0\n",
      "1325   146.0\n",
      "1350   148.0\n",
      "1375   220.0\n",
      "1400   220.0\n",
      "1425   10.0\n",
      "1450   219.0\n",
      "1475   220.0\n",
      "1500   40.0\n",
      "1525   38.0\n",
      "1550   220.0\n",
      "1575   220.0\n",
      "1600   150.0\n",
      "1625   220.0\n",
      "1650   220.0\n",
      "1675   12.0\n",
      "1700   220.0\n",
      "1725   220.0\n",
      "1750   220.0\n",
      "1775   220.0\n",
      "1800   220.0\n",
      "1825   220.0\n",
      "1850   220.0\n",
      "1875   220.0\n",
      "1900   220.0\n",
      "1925   220.0\n",
      "1950   220.0\n",
      "1975   220.0\n"
     ]
    }
   ],
   "source": [
    "\n",
    "# Runtime parameters\n",
    "\n",
    "gamma = 0.99                  # future reward discount\n",
    "# Exploration parameters\n",
    "min_epsilon = 0.01             # minimum exploration probability\n",
    "\n",
    "hidden_size=20\n",
    "TARGET_UPDATE = 10\n",
    "batch_size = 32\n",
    "num_episodes = 2000\n",
    "decay_rate = 5/num_episodes    # exponential decay rate for exploration prob\n",
    "max_steps = 220                # cut off simulation after this many steps\n",
    "state_size, action_size=4,2\n",
    "\n",
    "returns = np.zeros(num_episodes)\n",
    "for ep in range(1, num_episodes):\n",
    "    #print(\"ep:\",ep)\n",
    "    epsilon = min_epsilon + (1.0 - min_epsilon)*np.exp(-decay_rate*ep)\n",
    "    \n",
    "    env.reset()\n",
    "    state = env.state\n",
    "    total_reward=0\n",
    "    #print(\"\\tt starts\")\n",
    "    if ep>400 and returns[-1]>180:\n",
    "        mode=True\n",
    "    else:\n",
    "        mode=False\n",
    "    for t in range(max_steps):# --> start episode \n",
    "        #print(\"\\tt:\",t)\n",
    "        action = select_action(state,epsilon)# explore/exploit and get action using DQN\n",
    "        next_state, reward, done, _ = env.step(action)# perform action and record new_state, action, reward\n",
    "        if done:\n",
    "            next_state = None\n",
    "        replay.push(state,action,reward,next_state,done)# populate Replay experience buffer\n",
    "        state = next_state\n",
    "        total_reward+=reward\n",
    "        if not(mode):\n",
    "            batch = replay.generate_minibatch(DQN, targetDQN, batch_size)\n",
    "            DQN.optimize_model(batch)\n",
    "            if (t%TARGET_UPDATE==0):\n",
    "                targetDQN.qnet.load_state_dict(DQN.qnet.state_dict())\n",
    "        if done:\n",
    "            break\n",
    "    # <-- end episode\n",
    "    #print(\"\\tt ends\")\n",
    "    if ep%25==0:\n",
    "        print(ep,' ',total_reward)\n",
    "    returns[ep] = total_reward\n",
    "    \n",
    "    # Replay\n",
    "    if mode:\n",
    "        batch = replay.generate_minibatch(DQN, targetDQN, batch_size)\n",
    "        DQN.optimize_model(batch)   \n",
    "        if ep % TARGET_UPDATE == 0:\n",
    "            targetDQN.qnet.load_state_dict(DQN.qnet.state_dict())\n",
    "    \n",
    "    \n",
    "    # set targetDQN weights to DQN weights\n",
    "    # update DQN (run one epoch of training per episode with generated minibatch of states and qvalues)\n",
    "    \n",
    "#     total_reward=0\n",
    "#     state = env.reset()\n",
    "#     for t in range(max_steps):# --> start episode \n",
    "#         #print(\"\\tt:\",t)\n",
    "#         action = select_action(state,0)# explore/exploit and get action using DQN\n",
    "#         next_state, reward, done, _ = env.step(action)# perform action and record new_state, action, reward\n",
    "#         #replay.push(state,action,reward,next_state,done)# populate Replay experience buffer\n",
    "#         state = next_state\n",
    "#         total_reward+=reward\n",
    "#         #batch = replay.generate_minibatch(DQN, targetDQN, batch_size)\n",
    "#         #targetDQN.qnet.load_state_dict(DQN.qnet.state_dict())\n",
    "#         if done:\n",
    "#             break  \n",
    "#     returns[ep]=total_reward"
   ]
  },
  {
   "cell_type": "code",
   "execution_count": 48,
   "metadata": {},
   "outputs": [
    {
     "data": {
      "image/png": "[encoded data removed]",
      "text/plain": [
       "<matplotlib.figure.Figure at 0x114f8d908>"
      ]
     },
     "metadata": {},
     "output_type": "display_data"
    }
   ],
   "source": [
    "# plot average returns\n",
    "returns_over_100_episodes = []\n",
    "x = []\n",
    "for i in range(0,int(num_episodes/100)):\n",
    "    returns_over_100_episodes.append(sum(returns[100*i:100*(i+1)-1])/100)\n",
    "    x.append((i+1)*100)\n",
    "plt.plot(x,returns_over_100_episodes,'.-r')\n",
    "plt.ylabel('Average Returns per Episode')\n",
    "plt.xlabel('Num of Episodes')\n",
    "plt.show()"
   ]
  },
  {
   "cell_type": "code",
   "execution_count": 49,
   "metadata": {},
   "outputs": [],
   "source": [
    "# DEMO FINAL NETWORK\n",
    "env.reset()\n",
    "# Take one random step to get the pole and cart moving\n",
    "state, reward, done, _ = env.step(env.action_space.sample())\n",
    "state = np.reshape(state, [1, state.size])\n",
    "total_reward = 0\n",
    "for i in range(0, max_steps):\n",
    "    env.render()\n",
    "    \n",
    "    # Get action from Q-network\n",
    "    tmp=Variable(torch.FloatTensor(state), volatile=True).type(torch.FloatTensor)\n",
    "    Qs =DQN.qnet(tmp).data\n",
    "    # Qs = output of DQN.model when state is passed in\n",
    "    action = np.argmax(Qs)\n",
    "    \n",
    "    # Take action, get new state and reward\n",
    "    next_state, reward, done, _ = env.step(action)\n",
    "    total_reward += reward\n",
    "\n",
    "    if done:\n",
    "        break\n",
    "    else:\n",
    "        state = np.reshape(next_state, [1, state.size])"
   ]
  },
  {
   "cell_type": "code",
   "execution_count": null,
   "metadata": {},
   "outputs": [],
   "source": []
  }
 ],
 "metadata": {
  "anaconda-cloud": {},
  "kernelspec": {
   "display_name": "Python 3",
   "language": "python",
   "name": "python3"
  },
  "language_info": {
   "codemirror_mode": {
    "name": "ipython",
    "version": 3
   },
   "file_extension": ".py",
   "mimetype": "text/x-python",
   "name": "python",
   "nbconvert_exporter": "python",
   "pygments_lexer": "ipython3",
   "version": "3.6.3"
  },
  "varInspector": {
   "cols": {
    "lenName": 16,
    "lenType": 16,
    "lenVar": 40
   },
   "kernels_config": {
    "python": {
     "delete_cmd_postfix": "",
     "delete_cmd_prefix": "del ",
     "library": "var_list.py",
     "varRefreshCmd": "print(var_dic_list())"
    },
    "r": {
     "delete_cmd_postfix": ") ",
     "delete_cmd_prefix": "rm(",
     "library": "var_list.r",
     "varRefreshCmd": "cat(var_dic_list()) "
    }
   },
   "types_to_exclude": [
    "module",
    "function",
    "builtin_function_or_method",
    "instance",
    "_Feature"
   ],
   "window_display": false
  }
 },
 "nbformat": 4,
 "nbformat_minor": 2
}
